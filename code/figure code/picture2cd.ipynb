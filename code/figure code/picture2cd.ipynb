{
 "cells": [
  {
   "cell_type": "code",
   "execution_count": 1,
   "metadata": {
    "collapsed": true,
    "ExecuteTime": {
     "end_time": "2024-09-17T03:35:45.527808200Z",
     "start_time": "2024-09-17T03:35:45.007574900Z"
    }
   },
   "outputs": [],
   "source": [
    "import pandas as pd\n",
    "import numpy as np"
   ]
  },
  {
   "cell_type": "code",
   "execution_count": 2,
   "outputs": [],
   "source": [
    "FINDER=pd.read_csv(r'block_finder_key_gene.csv')"
   ],
   "metadata": {
    "collapsed": false,
    "ExecuteTime": {
     "end_time": "2024-09-17T03:36:14.246530200Z",
     "start_time": "2024-09-17T03:36:14.212525300Z"
    }
   }
  },
  {
   "cell_type": "code",
   "execution_count": 3,
   "outputs": [],
   "source": [
    "GAPR=pd.read_excel(r'test_BLOCK_GAPR_AP.xlsx')"
   ],
   "metadata": {
    "collapsed": false,
    "ExecuteTime": {
     "end_time": "2024-09-17T03:36:34.746694400Z",
     "start_time": "2024-09-17T03:36:34.404449100Z"
    }
   }
  },
  {
   "cell_type": "code",
   "execution_count": 4,
   "outputs": [
    {
     "data": {
      "text/plain": "      gene_id  renum      From       Species  \\\n0         351    161       APP  Homo sapiens   \n1        3172   1243     HNF4A  Homo sapiens   \n2        6872   2143      TAF1  Homo sapiens   \n3        2885   1148      GRB2  Homo sapiens   \n4        4149   1419       MAX  Homo sapiens   \n...       ...    ...       ...           ...   \n1197    30009   1633     TBX21  Homo sapiens   \n1198     6351   1863      CCL4  Homo sapiens   \n1199     3098   1218       HK1  Homo sapiens   \n1200    59339    774   PLEKHA2  Homo sapiens   \n1201     3118   1230  HLA-DQA2  Homo sapiens   \n\n                                              Gene Name         Score  \n0                   amyloid beta precursor protein(APP)  9.919679e-01  \n1              hepatocyte nuclear factor 4 alpha(HNF4A)  9.688534e-01  \n2     TATA-box binding protein associated factor 1(T...  9.405395e-01  \n3          growth factor receptor bound protein 2(GRB2)  9.234427e-01  \n4                          MYC associated factor X(MAX)  9.164938e-01  \n...                                                 ...           ...  \n1197               T-box transcription factor 21(TBX21)  6.500000e-07  \n1198                 C-C motif chemokine ligand 4(CCL4)  6.500000e-07  \n1199                                  hexokinase 1(HK1)  6.500000e-07  \n1200  pleckstrin homology domain containing A2(PLEKHA2)  6.500000e-07  \n1201  major histocompatibility complex, class II, DQ...  3.200000e-07  \n\n[1202 rows x 6 columns]",
      "text/html": "<div>\n<style scoped>\n    .dataframe tbody tr th:only-of-type {\n        vertical-align: middle;\n    }\n\n    .dataframe tbody tr th {\n        vertical-align: top;\n    }\n\n    .dataframe thead th {\n        text-align: right;\n    }\n</style>\n<table border=\"1\" class=\"dataframe\">\n  <thead>\n    <tr style=\"text-align: right;\">\n      <th></th>\n      <th>gene_id</th>\n      <th>renum</th>\n      <th>From</th>\n      <th>Species</th>\n      <th>Gene Name</th>\n      <th>Score</th>\n    </tr>\n  </thead>\n  <tbody>\n    <tr>\n      <th>0</th>\n      <td>351</td>\n      <td>161</td>\n      <td>APP</td>\n      <td>Homo sapiens</td>\n      <td>amyloid beta precursor protein(APP)</td>\n      <td>9.919679e-01</td>\n    </tr>\n    <tr>\n      <th>1</th>\n      <td>3172</td>\n      <td>1243</td>\n      <td>HNF4A</td>\n      <td>Homo sapiens</td>\n      <td>hepatocyte nuclear factor 4 alpha(HNF4A)</td>\n      <td>9.688534e-01</td>\n    </tr>\n    <tr>\n      <th>2</th>\n      <td>6872</td>\n      <td>2143</td>\n      <td>TAF1</td>\n      <td>Homo sapiens</td>\n      <td>TATA-box binding protein associated factor 1(T...</td>\n      <td>9.405395e-01</td>\n    </tr>\n    <tr>\n      <th>3</th>\n      <td>2885</td>\n      <td>1148</td>\n      <td>GRB2</td>\n      <td>Homo sapiens</td>\n      <td>growth factor receptor bound protein 2(GRB2)</td>\n      <td>9.234427e-01</td>\n    </tr>\n    <tr>\n      <th>4</th>\n      <td>4149</td>\n      <td>1419</td>\n      <td>MAX</td>\n      <td>Homo sapiens</td>\n      <td>MYC associated factor X(MAX)</td>\n      <td>9.164938e-01</td>\n    </tr>\n    <tr>\n      <th>...</th>\n      <td>...</td>\n      <td>...</td>\n      <td>...</td>\n      <td>...</td>\n      <td>...</td>\n      <td>...</td>\n    </tr>\n    <tr>\n      <th>1197</th>\n      <td>30009</td>\n      <td>1633</td>\n      <td>TBX21</td>\n      <td>Homo sapiens</td>\n      <td>T-box transcription factor 21(TBX21)</td>\n      <td>6.500000e-07</td>\n    </tr>\n    <tr>\n      <th>1198</th>\n      <td>6351</td>\n      <td>1863</td>\n      <td>CCL4</td>\n      <td>Homo sapiens</td>\n      <td>C-C motif chemokine ligand 4(CCL4)</td>\n      <td>6.500000e-07</td>\n    </tr>\n    <tr>\n      <th>1199</th>\n      <td>3098</td>\n      <td>1218</td>\n      <td>HK1</td>\n      <td>Homo sapiens</td>\n      <td>hexokinase 1(HK1)</td>\n      <td>6.500000e-07</td>\n    </tr>\n    <tr>\n      <th>1200</th>\n      <td>59339</td>\n      <td>774</td>\n      <td>PLEKHA2</td>\n      <td>Homo sapiens</td>\n      <td>pleckstrin homology domain containing A2(PLEKHA2)</td>\n      <td>6.500000e-07</td>\n    </tr>\n    <tr>\n      <th>1201</th>\n      <td>3118</td>\n      <td>1230</td>\n      <td>HLA-DQA2</td>\n      <td>Homo sapiens</td>\n      <td>major histocompatibility complex, class II, DQ...</td>\n      <td>3.200000e-07</td>\n    </tr>\n  </tbody>\n</table>\n<p>1202 rows × 6 columns</p>\n</div>"
     },
     "execution_count": 4,
     "metadata": {},
     "output_type": "execute_result"
    }
   ],
   "source": [
    "FINDER"
   ],
   "metadata": {
    "collapsed": false,
    "ExecuteTime": {
     "end_time": "2024-09-17T03:36:37.255294600Z",
     "start_time": "2024-09-17T03:36:37.209351Z"
    }
   }
  },
  {
   "cell_type": "code",
   "execution_count": 5,
   "outputs": [
    {
     "data": {
      "text/plain": "         AP  layer  connected component changes  LCC changes\n0       125      1                            1     0.000808\n1       240      1                            1     0.000808\n2       801      1                            4     0.002020\n3      1741      1                            2     0.001616\n4      3480      1                            2     0.001212\n...     ...    ...                          ...          ...\n1105  29102     13                            2     0.266667\n1106  57169     13                            1     0.133333\n1107   9968     13                            1     0.133333\n1108   3818     13                            1     0.000000\n1109   7980     13                            1     0.000000\n\n[1110 rows x 4 columns]",
      "text/html": "<div>\n<style scoped>\n    .dataframe tbody tr th:only-of-type {\n        vertical-align: middle;\n    }\n\n    .dataframe tbody tr th {\n        vertical-align: top;\n    }\n\n    .dataframe thead th {\n        text-align: right;\n    }\n</style>\n<table border=\"1\" class=\"dataframe\">\n  <thead>\n    <tr style=\"text-align: right;\">\n      <th></th>\n      <th>AP</th>\n      <th>layer</th>\n      <th>connected component changes</th>\n      <th>LCC changes</th>\n    </tr>\n  </thead>\n  <tbody>\n    <tr>\n      <th>0</th>\n      <td>125</td>\n      <td>1</td>\n      <td>1</td>\n      <td>0.000808</td>\n    </tr>\n    <tr>\n      <th>1</th>\n      <td>240</td>\n      <td>1</td>\n      <td>1</td>\n      <td>0.000808</td>\n    </tr>\n    <tr>\n      <th>2</th>\n      <td>801</td>\n      <td>1</td>\n      <td>4</td>\n      <td>0.002020</td>\n    </tr>\n    <tr>\n      <th>3</th>\n      <td>1741</td>\n      <td>1</td>\n      <td>2</td>\n      <td>0.001616</td>\n    </tr>\n    <tr>\n      <th>4</th>\n      <td>3480</td>\n      <td>1</td>\n      <td>2</td>\n      <td>0.001212</td>\n    </tr>\n    <tr>\n      <th>...</th>\n      <td>...</td>\n      <td>...</td>\n      <td>...</td>\n      <td>...</td>\n    </tr>\n    <tr>\n      <th>1105</th>\n      <td>29102</td>\n      <td>13</td>\n      <td>2</td>\n      <td>0.266667</td>\n    </tr>\n    <tr>\n      <th>1106</th>\n      <td>57169</td>\n      <td>13</td>\n      <td>1</td>\n      <td>0.133333</td>\n    </tr>\n    <tr>\n      <th>1107</th>\n      <td>9968</td>\n      <td>13</td>\n      <td>1</td>\n      <td>0.133333</td>\n    </tr>\n    <tr>\n      <th>1108</th>\n      <td>3818</td>\n      <td>13</td>\n      <td>1</td>\n      <td>0.000000</td>\n    </tr>\n    <tr>\n      <th>1109</th>\n      <td>7980</td>\n      <td>13</td>\n      <td>1</td>\n      <td>0.000000</td>\n    </tr>\n  </tbody>\n</table>\n<p>1110 rows × 4 columns</p>\n</div>"
     },
     "execution_count": 5,
     "metadata": {},
     "output_type": "execute_result"
    }
   ],
   "source": [
    "GAPR"
   ],
   "metadata": {
    "collapsed": false,
    "ExecuteTime": {
     "end_time": "2024-09-17T03:36:42.406093400Z",
     "start_time": "2024-09-17T03:36:42.388052800Z"
    }
   }
  },
  {
   "cell_type": "code",
   "execution_count": 7,
   "outputs": [],
   "source": [
    "pd.merge(FINDER,GAPR,left_on='gene_id',right_on='AP').to_csv(r'block_finder_key_gene_layer.csv',index=False)"
   ],
   "metadata": {
    "collapsed": false,
    "ExecuteTime": {
     "end_time": "2024-09-17T03:38:14.674142100Z",
     "start_time": "2024-09-17T03:38:14.633750Z"
    }
   }
  },
  {
   "cell_type": "code",
   "execution_count": 98,
   "outputs": [],
   "source": [
    "import pandas as pd\n",
    "import matplotlib.pyplot as plt\n",
    "import numpy as np\n",
    "from matplotlib.ticker import FuncFormatter, LogLocator\n",
    "\n",
    "\n",
    "# 假设您已经读取了数据，并定义了 finder_data 和 layers\n",
    "# 如果还没有，请取消以下注释并替换为您的数据加载代码\n",
    "finder_data = pd.read_csv('block_finder_key_gene_layer.csv')\n",
    "layers = sorted(finder_data['layer'].unique())\n",
    "# 获取层的列表，并按顺序排序\n",
    "\n",
    "# 定义颜色列表\n",
    "colors = ['skyblue', 'lightgreen', 'lightcoral', 'plum', 'khaki', 'lightsalmon', 'lightpink',\n",
    "          '#9c88ff', '#ff6b6b', '#feca57', '#C4E538', '#1dd1a1', '#48dbfb', '#54a0ff', '#00d2d3']\n",
    "\n",
    "# 创建图形和坐标轴\n",
    "fig, ax = plt.subplots(figsize=(6, 8))\n",
    "\n",
    "# 准备数据\n",
    "plot_data = [finder_data[finder_data['layer'] == layer]['LCC changes'].dropna() for layer in layers]\n",
    "\n",
    "# 处理 LCC changes 数据中的零或负值，替换为很小的正数\n",
    "for i in range(len(plot_data)):\n",
    "    plot_data[i] = plot_data[i].replace(0, 1e-3)\n",
    "    plot_data[i] = plot_data[i].clip(lower=1e-3)\n",
    "\n",
    "# 绘制小提琴图\n",
    "violin = ax.violinplot(plot_data, positions=np.arange(len(layers)) + 1, widths=0.7,\n",
    "                       showextrema=False, vert=False)\n",
    "\n",
    "# 绘制箱线图\n",
    "bplot = ax.boxplot(plot_data, positions=np.arange(len(layers)) + 1, widths=0.15,\n",
    "                   patch_artist=True, whis=1.5, vert=False,\n",
    "                   flierprops={'marker': '.', 'markeredgecolor': '#353b48', 'markersize': 2},\n",
    "                   medianprops={'linestyle': '-', 'color': '#353b48', 'linewidth': 0.5},\n",
    "                   whiskerprops={'linestyle': '-', 'color': '#353b48', 'linewidth': 0.5},\n",
    "                   capprops={'linestyle': '-', 'color': '#353b48', 'linewidth': 0.5})\n",
    "\n",
    "# 设置箱线图的颜色\n",
    "for patch, color in zip(bplot['boxes'], colors[:len(bplot['boxes'])]):\n",
    "    patch.set_facecolor(color)\n",
    "    patch.set_edgecolor('#353b48')\n",
    "    patch.set_linewidth(0.5)\n",
    "\n",
    "# 设置小提琴图的颜色\n",
    "for body, color in zip(violin['bodies'], colors[:len(violin['bodies'])]):\n",
    "    body.set_facecolor(color)\n",
    "    body.set_edgecolor('black')\n",
    "    body.set_linewidth(0.5)\n",
    "    body.set_alpha(0.5)\n",
    "\n",
    "\n",
    "plt.tick_params(top=False,bottom=True,left=False,right=True)\n",
    "# 设置轴标签和标题\n",
    "ax.set_yticks(np.arange(len(layers)) + 1)\n",
    "ax.set_yticklabels(layers, rotation=0, fontsize=12)\n",
    "ax.set_xlabel('LCC Changes', fontsize=14)\n",
    "ax.set_title('LCC Changes', fontsize=16)\n",
    "for spine in ax.spines.values():\n",
    "    spine.set_edgecolor('black')\n",
    "    spine.set_linewidth(0.5)\n",
    "# 设置 x 轴为对数尺度，并限制范围，增加第一个刻度和 Y 轴的距离\n",
    "ax.set_xscale('log')\n",
    "ax.set_xlim(7*1e-4,0.5)  # 将左边界从 0.4 调整为 0.5，增加间距\n",
    "\n",
    "# 反转 x 轴，使图从右往左绘制\n",
    "ax.invert_xaxis()\n",
    "\n",
    "# 格式化 x 轴刻度标签\n",
    "#ax.xaxis.set_major_locator(LogLocator(base=10.0, numticks=4))#\n",
    "def log_formatter(x, pos):\n",
    "    if x >= 1:\n",
    "        return f'{x:.0f}'\n",
    "    else:\n",
    "        return f'{x:.0e}'\n",
    "ax.xaxis.set_major_formatter(FuncFormatter(log_formatter))\n",
    "\n",
    "# 移除网格线\n",
    "ax.grid(False)\n",
    "\n",
    "# 显示 X 和 Y 轴的刻度线，并设置刻度标签的字体大小\n",
    "# plt.tick_params(axis='both',direction=\"out\")\n",
    "\n",
    "# 调整布局\n",
    "plt.tight_layout()\n",
    "\n",
    "# 显示图形\n",
    "# plt.show()\n",
    "plt.savefig(r'LCC method.png', transparent=True,dpi=600)\n",
    "plt.close('all')"
   ],
   "metadata": {
    "collapsed": false
   }
  },
  {
   "cell_type": "code",
   "execution_count": 99,
   "outputs": [
    {
     "name": "stderr",
     "output_type": "stream",
     "text": [
      "C:\\Users\\11340\\AppData\\Local\\Temp\\ipykernel_8812\\2737985638.py:43: UserWarning: Glyph 21508 (\\N{CJK UNIFIED IDEOGRAPH-5404}) missing from current font.\n",
      "  plt.tight_layout()\n",
      "C:\\Users\\11340\\AppData\\Local\\Temp\\ipykernel_8812\\2737985638.py:43: UserWarning: Glyph 23618 (\\N{CJK UNIFIED IDEOGRAPH-5C42}) missing from current font.\n",
      "  plt.tight_layout()\n",
      "C:\\Users\\11340\\AppData\\Local\\Temp\\ipykernel_8812\\2737985638.py:43: UserWarning: Glyph 30340 (\\N{CJK UNIFIED IDEOGRAPH-7684}) missing from current font.\n",
      "  plt.tight_layout()\n",
      "C:\\Users\\11340\\AppData\\Local\\Temp\\ipykernel_8812\\2737985638.py:43: UserWarning: Glyph 23567 (\\N{CJK UNIFIED IDEOGRAPH-5C0F}) missing from current font.\n",
      "  plt.tight_layout()\n",
      "C:\\Users\\11340\\AppData\\Local\\Temp\\ipykernel_8812\\2737985638.py:43: UserWarning: Glyph 25552 (\\N{CJK UNIFIED IDEOGRAPH-63D0}) missing from current font.\n",
      "  plt.tight_layout()\n",
      "C:\\Users\\11340\\AppData\\Local\\Temp\\ipykernel_8812\\2737985638.py:43: UserWarning: Glyph 29748 (\\N{CJK UNIFIED IDEOGRAPH-7434}) missing from current font.\n",
      "  plt.tight_layout()\n",
      "C:\\Users\\11340\\AppData\\Local\\Temp\\ipykernel_8812\\2737985638.py:43: UserWarning: Glyph 22270 (\\N{CJK UNIFIED IDEOGRAPH-56FE}) missing from current font.\n",
      "  plt.tight_layout()\n",
      "C:\\Users\\11340\\AppData\\Local\\Temp\\ipykernel_8812\\2737985638.py:43: UserWarning: Glyph 21644 (\\N{CJK UNIFIED IDEOGRAPH-548C}) missing from current font.\n",
      "  plt.tight_layout()\n",
      "C:\\Users\\11340\\AppData\\Local\\Temp\\ipykernel_8812\\2737985638.py:43: UserWarning: Glyph 31665 (\\N{CJK UNIFIED IDEOGRAPH-7BB1}) missing from current font.\n",
      "  plt.tight_layout()\n",
      "C:\\Users\\11340\\AppData\\Local\\Temp\\ipykernel_8812\\2737985638.py:43: UserWarning: Glyph 32447 (\\N{CJK UNIFIED IDEOGRAPH-7EBF}) missing from current font.\n",
      "  plt.tight_layout()\n",
      "C:\\Users\\11340\\AppData\\Local\\Temp\\ipykernel_8812\\2737985638.py:45: UserWarning: Glyph 21508 (\\N{CJK UNIFIED IDEOGRAPH-5404}) missing from current font.\n",
      "  plt.savefig(r'D:\\文章\\RORgt\\Finder method.png', transparent=True,dpi=600)\n",
      "C:\\Users\\11340\\AppData\\Local\\Temp\\ipykernel_8812\\2737985638.py:45: UserWarning: Glyph 23618 (\\N{CJK UNIFIED IDEOGRAPH-5C42}) missing from current font.\n",
      "  plt.savefig(r'D:\\文章\\RORgt\\Finder method.png', transparent=True,dpi=600)\n",
      "C:\\Users\\11340\\AppData\\Local\\Temp\\ipykernel_8812\\2737985638.py:45: UserWarning: Glyph 30340 (\\N{CJK UNIFIED IDEOGRAPH-7684}) missing from current font.\n",
      "  plt.savefig(r'D:\\文章\\RORgt\\Finder method.png', transparent=True,dpi=600)\n",
      "C:\\Users\\11340\\AppData\\Local\\Temp\\ipykernel_8812\\2737985638.py:45: UserWarning: Glyph 23567 (\\N{CJK UNIFIED IDEOGRAPH-5C0F}) missing from current font.\n",
      "  plt.savefig(r'D:\\文章\\RORgt\\Finder method.png', transparent=True,dpi=600)\n",
      "C:\\Users\\11340\\AppData\\Local\\Temp\\ipykernel_8812\\2737985638.py:45: UserWarning: Glyph 25552 (\\N{CJK UNIFIED IDEOGRAPH-63D0}) missing from current font.\n",
      "  plt.savefig(r'D:\\文章\\RORgt\\Finder method.png', transparent=True,dpi=600)\n",
      "C:\\Users\\11340\\AppData\\Local\\Temp\\ipykernel_8812\\2737985638.py:45: UserWarning: Glyph 29748 (\\N{CJK UNIFIED IDEOGRAPH-7434}) missing from current font.\n",
      "  plt.savefig(r'D:\\文章\\RORgt\\Finder method.png', transparent=True,dpi=600)\n",
      "C:\\Users\\11340\\AppData\\Local\\Temp\\ipykernel_8812\\2737985638.py:45: UserWarning: Glyph 22270 (\\N{CJK UNIFIED IDEOGRAPH-56FE}) missing from current font.\n",
      "  plt.savefig(r'D:\\文章\\RORgt\\Finder method.png', transparent=True,dpi=600)\n",
      "C:\\Users\\11340\\AppData\\Local\\Temp\\ipykernel_8812\\2737985638.py:45: UserWarning: Glyph 21644 (\\N{CJK UNIFIED IDEOGRAPH-548C}) missing from current font.\n",
      "  plt.savefig(r'D:\\文章\\RORgt\\Finder method.png', transparent=True,dpi=600)\n",
      "C:\\Users\\11340\\AppData\\Local\\Temp\\ipykernel_8812\\2737985638.py:45: UserWarning: Glyph 31665 (\\N{CJK UNIFIED IDEOGRAPH-7BB1}) missing from current font.\n",
      "  plt.savefig(r'D:\\文章\\RORgt\\Finder method.png', transparent=True,dpi=600)\n",
      "C:\\Users\\11340\\AppData\\Local\\Temp\\ipykernel_8812\\2737985638.py:45: UserWarning: Glyph 32447 (\\N{CJK UNIFIED IDEOGRAPH-7EBF}) missing from current font.\n",
      "  plt.savefig(r'D:\\文章\\RORgt\\Finder method.png', transparent=True,dpi=600)\n"
     ]
    }
   ],
   "source": [
    "fig, ax = plt.subplots(figsize=(6, 8))\n",
    "plot_data = [finder_data[finder_data['layer'] == layer]['Score'].dropna() for layer in layers]\n",
    "\n",
    "# 绘制小提琴图\n",
    "violin = ax.violinplot(plot_data, positions=np.arange(len(layers)) + 1, widths=0.7, showextrema=False, vert=False)\n",
    "\n",
    "# 绘制箱线图\n",
    "bplot = ax.boxplot(plot_data, positions=np.arange(len(layers)) + 1, widths=0.15, patch_artist=True, whis=1.5, vert=False,\n",
    "                   flierprops={'marker': '.', 'markeredgecolor': '#353b48', 'markersize': 2},\n",
    "                   medianprops={'linestyle': '-', 'color': '#353b48', 'linewidth': 0.5},\n",
    "                   whiskerprops={'linestyle': '-', 'color': '#353b48', 'linewidth': 0.5},\n",
    "                   capprops={'linestyle': '-', 'color': '#353b48', 'linewidth': 0.5})\n",
    "\n",
    "# 设置箱线图的颜色\n",
    "for patch, color in zip(bplot['boxes'], colors[:len(bplot['boxes'])]):\n",
    "    patch.set_facecolor(color)\n",
    "    patch.set_edgecolor('#353b48')\n",
    "    patch.set_linewidth(0.5)\n",
    "\n",
    "# 设置小提琴图的颜色\n",
    "for body, color in zip(violin['bodies'], colors[:len(violin['bodies'])]):\n",
    "    body.set_facecolor(color)\n",
    "    body.set_edgecolor('black')\n",
    "    body.set_linewidth(0.5)\n",
    "    body.set_alpha(0.5)\n",
    "\n",
    "# 设置轴标签和标题\n",
    "for label in ax.get_yticklabels():\n",
    "    label.set_horizontalalignment('center')\n",
    "    label.set_x(-0.01)  # 负值将标签向左移动，调整此值以避免重叠\n",
    "ax.set_yticks(np.arange(len(layers)) + 1)\n",
    "ax.set_yticklabels(layers, rotation=0, fontsize=12)\n",
    "ax.set_xlabel('Finder Score', fontsize=14)\n",
    "ax.set_title('各层 Finder Score 的小提琴图和箱线图', fontsize=16)\n",
    "plt.tick_params(top=False,bottom=True,left=True,right=False)\n",
    "for spine in ax.spines.values():\n",
    "    spine.set_edgecolor('black')\n",
    "    spine.set_linewidth(0.5)\n",
    "# 添加网格线\n",
    "ax.grid(False)\n",
    "ax.tick_params(axis='both')\n",
    "# 调整布局\n",
    "plt.tight_layout()\n",
    "# plt.show()\n",
    "plt.savefig(r'Finder method.png', transparent=True,dpi=600)\n",
    "plt.close('all')"
   ],
   "metadata": {
    "collapsed": false,
    "ExecuteTime": {
     "end_time": "2024-09-17T06:21:22.308146300Z",
     "start_time": "2024-09-17T06:21:21.242244700Z"
    }
   }
  },
  {
   "cell_type": "code",
   "execution_count": 3,
   "outputs": [],
   "source": [
    "import pandas as pd\n",
    "from sklearn.preprocessing import MinMaxScaler\n",
    "import matplotlib.pyplot as plt\n",
    "import numpy as np\n",
    "\n",
    "# 读取数据\n",
    "data = pd.read_csv(r'big_block_key_all_final.csv')\n",
    "\n",
    "# 初始化 Min-Max 标准化器\n",
    "min_max_scaler = MinMaxScaler()\n",
    "columns_to_standardize = ['Similarity', 'Finder_Score', 'Score_total', 'LCC changes']\n",
    "\n",
    "# 标准化指定的列\n",
    "data[columns_to_standardize] = min_max_scaler.fit_transform(data[columns_to_standardize])\n",
    "\n",
    "# 定义直方图的分箱\n",
    "bins = np.arange(0.05, 1.05, 0.05)\n",
    "\n",
    "# 计算每个标准化得分的直方图频数\n",
    "hist_similarity, _ = np.histogram(data['Similarity'], bins=bins)\n",
    "hist_finder_score, _ = np.histogram(data['Finder_Score'], bins=bins)\n",
    "hist_lcc_changes, _ = np.histogram(data['LCC changes'], bins=bins)\n",
    "hist_score_total, _ = np.histogram(data['Score_total'], bins=bins)\n",
    "\n",
    "# 将频数堆叠成二维数组\n",
    "hist_counts = np.vstack([hist_similarity, hist_finder_score, hist_lcc_changes, hist_score_total])\n",
    "\n",
    "# 计算每个分箱的总频数\n",
    "total_counts = hist_counts.sum(axis=0)\n",
    "\n",
    "# 防止除以零\n",
    "total_counts = np.where(total_counts == 0, 1, total_counts)\n",
    "\n",
    "# 将频数转换为百分比\n",
    "hist_percentages = hist_counts / total_counts * 100\n",
    "\n",
    "# 定义分箱的中心位置\n",
    "bin_centers = (bins[:-1] + bins[1:]) / 2\n",
    "\n",
    "# 创建堆叠的百分比柱状图\n",
    "fig, ax = plt.subplots(figsize=(8, 8))\n",
    "\n",
    "labels = ['Similarity', 'FINDER Score', 'LCC Changes', 'NASH Score']\n",
    "colors = ['#f2b56f', '#f57c6e', '#84c3b7', '#b8aeed']\n",
    "\n",
    "bottom = np.zeros(len(bin_centers))\n",
    "\n",
    "for i in range(len(labels)):\n",
    "    ax.bar(bin_centers, hist_percentages[i], width=0.045, bottom=bottom, edgecolor='black', label=labels[i], color=colors[i], align='center')\n",
    "    bottom += hist_percentages[i]\n",
    "\n",
    "# 添加标签和标题\n",
    "ax.set_xlabel('Standardized Scores', fontsize=20)\n",
    "ax.set_ylabel('Percentage (%)', fontsize=20)\n",
    "\n",
    "\n",
    "# 设置坐标轴范围\n",
    "ax.set_xlim(0.1, 1)\n",
    "ax.set_ylim(0, 100)\n",
    "\n",
    "# 设置坐标轴刻度字体大小\n",
    "ax.tick_params(axis='both', which='major', labelsize=12)\n",
    "\n",
    "# 设置坐标轴颜色\n",
    "ax.spines['top'].set_color('black')\n",
    "ax.spines['right'].set_color('black')\n",
    "ax.spines['bottom'].set_color('black')\n",
    "ax.spines['left'].set_color('black')\n",
    "\n",
    "# 移除网格线\n",
    "ax.grid(False)\n",
    "\n",
    "# 添加图例\n",
    "ax.legend(prop={'family': 'Arial', 'size': 20})\n",
    "plt.tick_params(top=False,bottom=True,left=True,right=False)\n",
    "# 显示图形\n",
    "plt.tight_layout()\n",
    "for spine in ax.spines.values():\n",
    "    spine.set_edgecolor('black')\n",
    "    spine.set_linewidth(0.5)\n",
    "plt.xticks(fontname='Arial', fontsize=20)\n",
    "plt.yticks(fontname='Arial', fontsize=20)\n",
    "# plt.show()\n",
    "plt.savefig(r'Combination_Scores_new.svg', transparent=True, dpi=600)\n",
    "plt.close('all')"
   ],
   "metadata": {
    "collapsed": false,
    "ExecuteTime": {
     "end_time": "2025-01-16T07:40:42.787766500Z",
     "start_time": "2025-01-16T07:40:42.579538Z"
    }
   }
  },
  {
   "cell_type": "code",
   "execution_count": 2,
   "outputs": [],
   "source": [
    "import pandas as pd"
   ],
   "metadata": {
    "collapsed": false,
    "ExecuteTime": {
     "end_time": "2024-09-20T09:20:55.218544Z",
     "start_time": "2024-09-20T09:20:55.193012Z"
    }
   }
  },
  {
   "cell_type": "code",
   "execution_count": 22,
   "outputs": [],
   "source": [
    "nature_infor=pd.read_csv(r'compound_information.csv')"
   ],
   "metadata": {
    "collapsed": false,
    "ExecuteTime": {
     "end_time": "2024-09-20T12:10:58.216986800Z",
     "start_time": "2024-09-20T12:10:58.162002700Z"
    }
   }
  },
  {
   "cell_type": "code",
   "execution_count": 26,
   "outputs": [],
   "source": [
    "nature_results=pd.read_table(r'results.txt',sep='\\t',header=None)"
   ],
   "metadata": {
    "collapsed": false,
    "ExecuteTime": {
     "end_time": "2024-09-20T12:11:35.415121300Z",
     "start_time": "2024-09-20T12:11:35.143374100Z"
    }
   }
  },
  {
   "cell_type": "code",
   "execution_count": 27,
   "outputs": [],
   "source": [
    "nature_results_ROR=nature_results[nature_results[3]=='P51449']"
   ],
   "metadata": {
    "collapsed": false,
    "ExecuteTime": {
     "end_time": "2024-09-20T12:11:37.307864400Z",
     "start_time": "2024-09-20T12:11:37.291076900Z"
    }
   }
  },
  {
   "cell_type": "code",
   "execution_count": 29,
   "outputs": [
    {
     "name": "stderr",
     "output_type": "stream",
     "text": [
      "C:\\Users\\11340\\AppData\\Local\\Temp\\ipykernel_64168\\4271807795.py:2: SettingWithCopyWarning: \n",
      "A value is trying to be set on a copy of a slice from a DataFrame.\n",
      "Try using .loc[row_indexer,col_indexer] = value instead\n",
      "\n",
      "See the caveats in the documentation: https://pandas.pydata.org/pandas-docs/stable/user_guide/indexing.html#returning-a-view-versus-a-copy\n",
      "  nature_results_ROR[1] = nature_results_ROR[1].str.strip().str.upper()\n"
     ]
    }
   ],
   "source": [
    "\n",
    "\n",
    "# Standardize the 'Drug_num' column: strip whitespaces and normalize case\n",
    "nature_results_ROR[1] = nature_results_ROR[1].str.strip().str.upper()\n",
    "nature_infor['Drug_num'] = nature_infor['Drug_num'].str.strip().str.upper()"
   ],
   "metadata": {
    "collapsed": false,
    "ExecuteTime": {
     "end_time": "2024-09-20T12:11:48.671538200Z",
     "start_time": "2024-09-20T12:11:48.613788200Z"
    }
   }
  },
  {
   "cell_type": "code",
   "execution_count": 31,
   "outputs": [],
   "source": [
    "pd.merge(nature_results_ROR,nature_infor,left_on=1,right_on='Drug_num').to_csv(r'D:\\文章\\RORgt\\DTI_prediction\\wSDTNBI原始数据\\results_ROR.csv',index=False)"
   ],
   "metadata": {
    "collapsed": false,
    "ExecuteTime": {
     "end_time": "2024-09-20T12:12:27.009105600Z",
     "start_time": "2024-09-20T12:12:26.944714600Z"
    }
   }
  },
  {
   "cell_type": "code",
   "execution_count": null,
   "outputs": [],
   "source": [],
   "metadata": {
    "collapsed": false
   }
  }
 ],
 "metadata": {
  "kernelspec": {
   "display_name": "Python 3",
   "language": "python",
   "name": "python3"
  },
  "language_info": {
   "codemirror_mode": {
    "name": "ipython",
    "version": 2
   },
   "file_extension": ".py",
   "mimetype": "text/x-python",
   "name": "python",
   "nbconvert_exporter": "python",
   "pygments_lexer": "ipython2",
   "version": "2.7.6"
  }
 },
 "nbformat": 4,
 "nbformat_minor": 0
}
