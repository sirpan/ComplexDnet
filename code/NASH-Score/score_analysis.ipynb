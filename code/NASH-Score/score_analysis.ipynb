{
 "cells": [
  {
   "cell_type": "code",
   "execution_count": 1,
   "metadata": {
    "collapsed": true,
    "ExecuteTime": {
     "end_time": "2024-08-16T05:27:22.308756800Z",
     "start_time": "2024-08-16T05:27:22.294754300Z"
    }
   },
   "outputs": [],
   "source": [
    "import numpy as np\n",
    "import pandas as pd"
   ]
  },
  {
   "cell_type": "markdown",
   "source": [
    "Gene map"
   ],
   "metadata": {
    "collapsed": false
   }
  },
  {
   "cell_type": "code",
   "execution_count": 2,
   "outputs": [],
   "source": [
    "big_block=pd.read_csv(r'big_clock_key_gene.csv')"
   ],
   "metadata": {
    "collapsed": false,
    "ExecuteTime": {
     "end_time": "2024-08-16T05:28:00.249592900Z",
     "start_time": "2024-08-16T05:28:00.119014200Z"
    }
   }
  },
  {
   "cell_type": "code",
   "execution_count": 3,
   "outputs": [
    {
     "name": "stderr",
     "output_type": "stream",
     "text": [
      "C:\\Users\\11340\\AppData\\Local\\Temp\\ipykernel_17680\\1890634434.py:1: DtypeWarning: Columns (8,9) have mixed types. Specify dtype option on import or set low_memory=False.\n",
      "  big_block_INFOR=pd.read_table(r'D:\\metabolic network\\转录组\\Wgcna\\Human.GRCh38.p13.annot.tsv',sep='\\t')\n"
     ]
    }
   ],
   "source": [
    "big_block_INFOR=pd.read_table(r'Human.GRCh38.p13.annot.tsv',sep='\\t')"
   ],
   "metadata": {
    "collapsed": false,
    "ExecuteTime": {
     "end_time": "2024-08-16T05:28:39.126944500Z",
     "start_time": "2024-08-16T05:28:38.424463400Z"
    }
   }
  },
  {
   "cell_type": "markdown",
   "source": [
    "pathway information"
   ],
   "metadata": {
    "collapsed": false
   }
  },
  {
   "cell_type": "code",
   "execution_count": 9,
   "outputs": [],
   "source": [
    "big_block_key=pd.merge(big_block,big_block_INFOR,left_on='gene',right_on='GeneID')\n",
    "pathway_df = pd.read_table(r'NASH_ontology_network.txt', sep='\\t')\n",
    "pathway_df_KEGG = pathway_df[pathway_df['DB'] == 'KEGG']\n",
    "KEY_PATHWAY = pd.read_csv(r'KEY_PATHWAY.csv')\n",
    "KEY_gene_PATHWAY = pathway_df_KEGG[pathway_df_KEGG['term_id'].isin(list(KEY_PATHWAY['Term']))]\n",
    "sim_total = []\n",
    "for i in big_block_key['EnsemblGeneID']:\n",
    "\n",
    "    pathway_num = pathway_df_KEGG[pathway_df_KEGG['gene_id'] == i]\n",
    "    if pathway_num.shape[0] == 0:\n",
    "        sim = 0\n",
    "    else:\n",
    "        sim = KEY_gene_PATHWAY[KEY_gene_PATHWAY['gene_id'] == i].shape[0] / pathway_num.shape[0]\n",
    "\n",
    "    sim_total.append(sim)\n",
    "big_block_key['sim']=sim_total"
   ],
   "metadata": {
    "collapsed": false,
    "ExecuteTime": {
     "end_time": "2024-08-16T05:29:29.817247600Z",
     "start_time": "2024-08-16T05:29:29.751628200Z"
    }
   }
  },
  {
   "cell_type": "markdown",
   "source": [
    "computation of network information(traditional method,GAPR,finder,pathway))"
   ],
   "metadata": {
    "collapsed": false
   }
  },
  {
   "cell_type": "code",
   "execution_count": 32,
   "outputs": [
    {
     "name": "stdout",
     "output_type": "stream",
     "text": [
      "   entry_id  K-Shell  Degree  PageRank  Betweenness\n",
      "0         2       10      26  0.000921     0.002458\n",
      "1       351       15     340  0.013429     0.134389\n",
      "2       427        8      10  0.000425     0.000987\n",
      "3       476       13      19  0.000571     0.000450\n",
      "4       506       14      32  0.001018     0.004709\n"
     ]
    }
   ],
   "source": [
    "import pandas as pd\n",
    "import networkx as nx\n",
    "import os\n",
    "\n",
    "# Load the protein-protein interaction network data\n",
    "block_ppi_path = r'block_ppi_GAPR.txt'\n",
    "\n",
    "# 检查文件是否存在\n",
    "if not os.path.exists(block_ppi_path):\n",
    "    raise FileNotFoundError(f\"The file {block_ppi_path} does not exist.\")\n",
    "\n",
    "block_ppi_data = pd.read_csv(block_ppi_path, sep='\\t')\n",
    "\n",
    "# Create a graph from the edge list\n",
    "block_G = nx.from_pandas_edgelist(block_ppi_data, '#Protein A', 'Protein B')\n",
    "\n",
    "# Calculate k-shell\n",
    "NASH_k_shell = nx.core_number(block_G)\n",
    "\n",
    "# Calculate degree\n",
    "NASH_degree = dict(block_G.degree())\n",
    "\n",
    "# Calculate Pagerank\n",
    "NASH_pagerank = nx.pagerank(block_G)\n",
    "\n",
    "# Calculate betweenness centrality\n",
    "NASH_betweenness = nx.betweenness_centrality(block_G)\n",
    "\n",
    "# 如果没有 nx.collective_influence 方法，可以注释掉或实现自己的计算\n",
    "#NASH_collective_influence = nx.collective_influence(block_G)\n",
    "\n",
    "# 构建 DataFrame\n",
    "NASH_nodes = list(block_G.nodes())\n",
    "NASH_scores_df = pd.DataFrame({\n",
    "    'entry_id': NASH_nodes,\n",
    "    'K-Shell': [NASH_k_shell[node] for node in NASH_nodes],\n",
    "    'Degree': [NASH_degree[node] for node in NASH_nodes],\n",
    "    'PageRank': [NASH_pagerank[node] for node in NASH_nodes],\n",
    "    'Betweenness': [NASH_betweenness[node] for node in NASH_nodes]\n",
    "    # 如果实现了集体影响力计算，可以取消注释以下一行\n",
    "    # ,'Collective_influence': [NASH_collective_influence[node] for node in NASH_nodes]\n",
    "})\n",
    "\n",
    "# 打印前几行以验证结果\n",
    "print(NASH_scores_df.head())\n",
    "def calculate_collective_influence(G, l=2):\n",
    "    CI = {}\n",
    "    for node in G.nodes():\n",
    "        # 集体影响力的计算公式可以是 CI(node) = (k - 1) * Σ邻居(k_neigh - 1)\n",
    "        neighbors = list(G.neighbors(node))\n",
    "        influence_sum = sum([G.degree(neigh) - 1 for neigh in neighbors])\n",
    "        CI[node] = (G.degree(node) - 1) * influence_sum\n",
    "    return CI\n",
    "\n",
    "# 使用函数计算集体影响力\n",
    "NASH_collective_influence = calculate_collective_influence(block_G)\n",
    "\n",
    "# 然后将其添加到 DataFrame 中\n",
    "NASH_scores_df['Collective_influence'] = [NASH_collective_influence[node] for node in NASH_nodes]"
   ],
   "metadata": {
    "collapsed": false
   }
  },
  {
   "cell_type": "code",
   "execution_count": 148,
   "outputs": [],
   "source": [
    "big_block_key_all=pd.merge(big_block_key,NASH_scores_df,left_on='gene',right_on='entry_id')"
   ],
   "metadata": {
    "collapsed": false,
    "ExecuteTime": {
     "end_time": "2024-08-16T07:29:14.213644600Z",
     "start_time": "2024-08-16T07:29:14.188641300Z"
    }
   }
  },
  {
   "cell_type": "code",
   "execution_count": 38,
   "outputs": [
    {
     "data": {
      "text/plain": "        0  gene  renum    From    To       Species  \\\n0     161   351    161     APP   351  Homo sapiens   \n1    1243  3172   1243   HNF4A  3172  Homo sapiens   \n2    2143  6872   2143    TAF1  6872  Homo sapiens   \n3    1419  4149   1419     MAX  4149  Homo sapiens   \n4     118  8452    118    CUL3  8452  Homo sapiens   \n..    ...   ...    ...     ...   ...           ...   \n272  1305  3586   1305    IL10  3586  Homo sapiens   \n273   172  8567    172    MADD  8567  Homo sapiens   \n274  1665  5607   1665  MAP2K5  5607  Homo sapiens   \n275  1863  6351   1863    CCL4  6351  Homo sapiens   \n276  1218  3098   1218     HK1  3098  Homo sapiens   \n\n                                             Gene Name         Score  \\\n0                  amyloid beta precursor protein(APP)  9.919679e-01   \n1             hepatocyte nuclear factor 4 alpha(HNF4A)  9.688534e-01   \n2    TATA-box binding protein associated factor 1(T...  9.405395e-01   \n3                         MYC associated factor X(MAX)  9.164938e-01   \n4                                       cullin 3(CUL3)  9.126446e-01   \n..                                                 ...           ...   \n272                               interleukin 10(IL10)  2.590000e-06   \n273           MAP kinase activating death domain(MADD)  9.700000e-07   \n274  mitogen-activated protein kinase kinase 5(MAP2K5)  6.500000e-07   \n275                 C-C motif chemokine ligand 4(CCL4)  6.500000e-07   \n276                                  hexokinase 1(HK1)  6.500000e-07   \n\n    Gene Symbol                                 Description_x  ...  \\\n0           APP                Amyloid Beta Precursor Protein  ...   \n1         HNF4A             Hepatocyte Nuclear Factor 4 Alpha  ...   \n2          TAF1  TATA-Box Binding Protein Associated Factor 1  ...   \n3           MAX                       MYC Associated Factor X  ...   \n4          CUL3                                      Cullin 3  ...   \n..          ...                                           ...  ...   \n272        IL10                                Interleukin 10  ...   \n273        MADD            MAP Kinase Activating Death Domain  ...   \n274      MAP2K5     Mitogen-Activated Protein Kinase Kinase 5  ...   \n275        CCL4                  C-C Motif Chemokine Ligand 4  ...   \n276         HK1                                  Hexokinase 1  ...   \n\n                                            GOFunction  \\\n0    RNA polymerase II cis-regulatory region sequen...   \n1    transcription cis-regulatory region binding///...   \n2    RNA polymerase II core promoter sequence-speci...   \n3    RNA polymerase II transcription regulatory reg...   \n4    ubiquitin-protein transferase activity///Notch...   \n..                                                 ...   \n272  cytokine activity///interleukin-10 receptor bi...   \n273  guanyl-nucleotide exchange factor activity///d...   \n274  protein kinase activity///protein serine/threo...   \n275  cytokine activity///protein binding///chemokin...   \n276  glucokinase activity///hexokinase activity///p...   \n\n                                             GOProcess  \\\n0    G2/M transition of mitotic cell cycle///microg...   \n1    type B pancreatic cell development///regulatio...   \n2    negative regulation of transcription by RNA po...   \n3    negative regulation of transcription by RNA po...   \n4    G1/S transition of mitotic cell cycle///negati...   \n..                                                 ...   \n272  negative regulation of cytokine production///p...   \n273  cell surface receptor signaling pathway///acti...   \n274  negative regulation of transcription by RNA po...   \n275  monocyte chemotaxis///inflammatory response///...   \n276  cellular glucose homeostasis///positive regula...   \n\n                                           GOComponent    sim  entry_id  \\\n0    extracellular region///extracellular space///n...  0.000       351   \n1        chromatin///nucleus///nucleoplasm///cytoplasm  0.000      3172   \n2    chromatin///nucleus///nucleoplasm///transcript...  0.000      6872   \n3    chromatin///nucleus///nucleoplasm///cytoplasm/...  0.000      4149   \n4    spindle pole///nucleus///nucleoplasm///cytopla...  0.000      8452   \n..                                                 ...    ...       ...   \n272         extracellular region///extracellular space  0.175      3586   \n273  cytoplasm///cytosol///plasma membrane///membra...  0.000      8567   \n274                        nucleus///spindle///cytosol  0.000      5607   \n275         extracellular region///extracellular space  0.025      6351   \n276  mitochondrion///mitochondrial outer membrane//...  0.025      3098   \n\n    K-Shell  Degree  PageRank Betweenness Collective_influence  \n0        15     340  0.013429    0.134389              1681101  \n1        15     404  0.015351    0.148791              2202395  \n2        15     382  0.013531    0.127781              2215134  \n3        15     163  0.005253    0.022825               566838  \n4        15     188  0.005816    0.035568               843744  \n..      ...     ...       ...         ...                  ...  \n272       3       4  0.000196    0.000060                  306  \n273       6       8  0.000364    0.001216                 4683  \n274       6       8  0.000306    0.000244                 6426  \n275       4       5  0.000275    0.000549                 1616  \n276       9      13  0.000455    0.001289                16764  \n\n[277 rows x 41 columns]",
      "text/html": "<div>\n<style scoped>\n    .dataframe tbody tr th:only-of-type {\n        vertical-align: middle;\n    }\n\n    .dataframe tbody tr th {\n        vertical-align: top;\n    }\n\n    .dataframe thead th {\n        text-align: right;\n    }\n</style>\n<table border=\"1\" class=\"dataframe\">\n  <thead>\n    <tr style=\"text-align: right;\">\n      <th></th>\n      <th>0</th>\n      <th>gene</th>\n      <th>renum</th>\n      <th>From</th>\n      <th>To</th>\n      <th>Species</th>\n      <th>Gene Name</th>\n      <th>Score</th>\n      <th>Gene Symbol</th>\n      <th>Description_x</th>\n      <th>...</th>\n      <th>GOFunction</th>\n      <th>GOProcess</th>\n      <th>GOComponent</th>\n      <th>sim</th>\n      <th>entry_id</th>\n      <th>K-Shell</th>\n      <th>Degree</th>\n      <th>PageRank</th>\n      <th>Betweenness</th>\n      <th>Collective_influence</th>\n    </tr>\n  </thead>\n  <tbody>\n    <tr>\n      <th>0</th>\n      <td>161</td>\n      <td>351</td>\n      <td>161</td>\n      <td>APP</td>\n      <td>351</td>\n      <td>Homo sapiens</td>\n      <td>amyloid beta precursor protein(APP)</td>\n      <td>9.919679e-01</td>\n      <td>APP</td>\n      <td>Amyloid Beta Precursor Protein</td>\n      <td>...</td>\n      <td>RNA polymerase II cis-regulatory region sequen...</td>\n      <td>G2/M transition of mitotic cell cycle///microg...</td>\n      <td>extracellular region///extracellular space///n...</td>\n      <td>0.000</td>\n      <td>351</td>\n      <td>15</td>\n      <td>340</td>\n      <td>0.013429</td>\n      <td>0.134389</td>\n      <td>1681101</td>\n    </tr>\n    <tr>\n      <th>1</th>\n      <td>1243</td>\n      <td>3172</td>\n      <td>1243</td>\n      <td>HNF4A</td>\n      <td>3172</td>\n      <td>Homo sapiens</td>\n      <td>hepatocyte nuclear factor 4 alpha(HNF4A)</td>\n      <td>9.688534e-01</td>\n      <td>HNF4A</td>\n      <td>Hepatocyte Nuclear Factor 4 Alpha</td>\n      <td>...</td>\n      <td>transcription cis-regulatory region binding///...</td>\n      <td>type B pancreatic cell development///regulatio...</td>\n      <td>chromatin///nucleus///nucleoplasm///cytoplasm</td>\n      <td>0.000</td>\n      <td>3172</td>\n      <td>15</td>\n      <td>404</td>\n      <td>0.015351</td>\n      <td>0.148791</td>\n      <td>2202395</td>\n    </tr>\n    <tr>\n      <th>2</th>\n      <td>2143</td>\n      <td>6872</td>\n      <td>2143</td>\n      <td>TAF1</td>\n      <td>6872</td>\n      <td>Homo sapiens</td>\n      <td>TATA-box binding protein associated factor 1(T...</td>\n      <td>9.405395e-01</td>\n      <td>TAF1</td>\n      <td>TATA-Box Binding Protein Associated Factor 1</td>\n      <td>...</td>\n      <td>RNA polymerase II core promoter sequence-speci...</td>\n      <td>negative regulation of transcription by RNA po...</td>\n      <td>chromatin///nucleus///nucleoplasm///transcript...</td>\n      <td>0.000</td>\n      <td>6872</td>\n      <td>15</td>\n      <td>382</td>\n      <td>0.013531</td>\n      <td>0.127781</td>\n      <td>2215134</td>\n    </tr>\n    <tr>\n      <th>3</th>\n      <td>1419</td>\n      <td>4149</td>\n      <td>1419</td>\n      <td>MAX</td>\n      <td>4149</td>\n      <td>Homo sapiens</td>\n      <td>MYC associated factor X(MAX)</td>\n      <td>9.164938e-01</td>\n      <td>MAX</td>\n      <td>MYC Associated Factor X</td>\n      <td>...</td>\n      <td>RNA polymerase II transcription regulatory reg...</td>\n      <td>negative regulation of transcription by RNA po...</td>\n      <td>chromatin///nucleus///nucleoplasm///cytoplasm/...</td>\n      <td>0.000</td>\n      <td>4149</td>\n      <td>15</td>\n      <td>163</td>\n      <td>0.005253</td>\n      <td>0.022825</td>\n      <td>566838</td>\n    </tr>\n    <tr>\n      <th>4</th>\n      <td>118</td>\n      <td>8452</td>\n      <td>118</td>\n      <td>CUL3</td>\n      <td>8452</td>\n      <td>Homo sapiens</td>\n      <td>cullin 3(CUL3)</td>\n      <td>9.126446e-01</td>\n      <td>CUL3</td>\n      <td>Cullin 3</td>\n      <td>...</td>\n      <td>ubiquitin-protein transferase activity///Notch...</td>\n      <td>G1/S transition of mitotic cell cycle///negati...</td>\n      <td>spindle pole///nucleus///nucleoplasm///cytopla...</td>\n      <td>0.000</td>\n      <td>8452</td>\n      <td>15</td>\n      <td>188</td>\n      <td>0.005816</td>\n      <td>0.035568</td>\n      <td>843744</td>\n    </tr>\n    <tr>\n      <th>...</th>\n      <td>...</td>\n      <td>...</td>\n      <td>...</td>\n      <td>...</td>\n      <td>...</td>\n      <td>...</td>\n      <td>...</td>\n      <td>...</td>\n      <td>...</td>\n      <td>...</td>\n      <td>...</td>\n      <td>...</td>\n      <td>...</td>\n      <td>...</td>\n      <td>...</td>\n      <td>...</td>\n      <td>...</td>\n      <td>...</td>\n      <td>...</td>\n      <td>...</td>\n      <td>...</td>\n    </tr>\n    <tr>\n      <th>272</th>\n      <td>1305</td>\n      <td>3586</td>\n      <td>1305</td>\n      <td>IL10</td>\n      <td>3586</td>\n      <td>Homo sapiens</td>\n      <td>interleukin 10(IL10)</td>\n      <td>2.590000e-06</td>\n      <td>IL10</td>\n      <td>Interleukin 10</td>\n      <td>...</td>\n      <td>cytokine activity///interleukin-10 receptor bi...</td>\n      <td>negative regulation of cytokine production///p...</td>\n      <td>extracellular region///extracellular space</td>\n      <td>0.175</td>\n      <td>3586</td>\n      <td>3</td>\n      <td>4</td>\n      <td>0.000196</td>\n      <td>0.000060</td>\n      <td>306</td>\n    </tr>\n    <tr>\n      <th>273</th>\n      <td>172</td>\n      <td>8567</td>\n      <td>172</td>\n      <td>MADD</td>\n      <td>8567</td>\n      <td>Homo sapiens</td>\n      <td>MAP kinase activating death domain(MADD)</td>\n      <td>9.700000e-07</td>\n      <td>MADD</td>\n      <td>MAP Kinase Activating Death Domain</td>\n      <td>...</td>\n      <td>guanyl-nucleotide exchange factor activity///d...</td>\n      <td>cell surface receptor signaling pathway///acti...</td>\n      <td>cytoplasm///cytosol///plasma membrane///membra...</td>\n      <td>0.000</td>\n      <td>8567</td>\n      <td>6</td>\n      <td>8</td>\n      <td>0.000364</td>\n      <td>0.001216</td>\n      <td>4683</td>\n    </tr>\n    <tr>\n      <th>274</th>\n      <td>1665</td>\n      <td>5607</td>\n      <td>1665</td>\n      <td>MAP2K5</td>\n      <td>5607</td>\n      <td>Homo sapiens</td>\n      <td>mitogen-activated protein kinase kinase 5(MAP2K5)</td>\n      <td>6.500000e-07</td>\n      <td>MAP2K5</td>\n      <td>Mitogen-Activated Protein Kinase Kinase 5</td>\n      <td>...</td>\n      <td>protein kinase activity///protein serine/threo...</td>\n      <td>negative regulation of transcription by RNA po...</td>\n      <td>nucleus///spindle///cytosol</td>\n      <td>0.000</td>\n      <td>5607</td>\n      <td>6</td>\n      <td>8</td>\n      <td>0.000306</td>\n      <td>0.000244</td>\n      <td>6426</td>\n    </tr>\n    <tr>\n      <th>275</th>\n      <td>1863</td>\n      <td>6351</td>\n      <td>1863</td>\n      <td>CCL4</td>\n      <td>6351</td>\n      <td>Homo sapiens</td>\n      <td>C-C motif chemokine ligand 4(CCL4)</td>\n      <td>6.500000e-07</td>\n      <td>CCL4</td>\n      <td>C-C Motif Chemokine Ligand 4</td>\n      <td>...</td>\n      <td>cytokine activity///protein binding///chemokin...</td>\n      <td>monocyte chemotaxis///inflammatory response///...</td>\n      <td>extracellular region///extracellular space</td>\n      <td>0.025</td>\n      <td>6351</td>\n      <td>4</td>\n      <td>5</td>\n      <td>0.000275</td>\n      <td>0.000549</td>\n      <td>1616</td>\n    </tr>\n    <tr>\n      <th>276</th>\n      <td>1218</td>\n      <td>3098</td>\n      <td>1218</td>\n      <td>HK1</td>\n      <td>3098</td>\n      <td>Homo sapiens</td>\n      <td>hexokinase 1(HK1)</td>\n      <td>6.500000e-07</td>\n      <td>HK1</td>\n      <td>Hexokinase 1</td>\n      <td>...</td>\n      <td>glucokinase activity///hexokinase activity///p...</td>\n      <td>cellular glucose homeostasis///positive regula...</td>\n      <td>mitochondrion///mitochondrial outer membrane//...</td>\n      <td>0.025</td>\n      <td>3098</td>\n      <td>9</td>\n      <td>13</td>\n      <td>0.000455</td>\n      <td>0.001289</td>\n      <td>16764</td>\n    </tr>\n  </tbody>\n</table>\n<p>277 rows × 41 columns</p>\n</div>"
     },
     "execution_count": 38,
     "metadata": {},
     "output_type": "execute_result"
    }
   ],
   "source": [
    "big_block_key_all"
   ],
   "metadata": {
    "collapsed": false,
    "ExecuteTime": {
     "end_time": "2024-08-16T05:58:00.924875300Z",
     "start_time": "2024-08-16T05:58:00.875597600Z"
    }
   }
  },
  {
   "cell_type": "code",
   "execution_count": 150,
   "outputs": [],
   "source": [
    "GAPR_results=pd.read_excel(r'test_BLOCK_GAPR_AP.xlsx')\n",
    "big_block_key_all=pd.merge(big_block_key_all,GAPR_results,left_on='gene',right_on='AP')"
   ],
   "metadata": {
    "collapsed": false,
    "ExecuteTime": {
     "end_time": "2024-08-16T07:29:20.875360700Z",
     "start_time": "2024-08-16T07:29:20.812016200Z"
    }
   }
  },
  {
   "cell_type": "markdown",
   "source": [
    "Comstruction of the final score"
   ],
   "metadata": {
    "collapsed": false
   }
  },
  {
   "cell_type": "code",
   "execution_count": 73,
   "outputs": [],
   "source": [
    "from sklearn.preprocessing import MinMaxScaler\n",
    "scaler = MinMaxScaler()\n",
    "big_block_key_all['Score_norm'] = scaler.fit_transform(big_block_key_all[['Score']])\n",
    "big_block_key_all['K-Shell_norm'] = scaler.fit_transform(big_block_key_all[['K-Shell']])\n",
    "big_block_key_all['Degree_norm'] = scaler.fit_transform(big_block_key_all[['Degree']])\n",
    "big_block_key_all['PageRank_norm'] = scaler.fit_transform(big_block_key_all[['PageRank']])\n",
    "big_block_key_all['Betweenness_norm'] = scaler.fit_transform(big_block_key_all[['Betweenness']])\n",
    "big_block_key_all['Collective_influence_norm'] = scaler.fit_transform(np.log10(1+big_block_key_all[['Collective_influence']]))\n",
    "big_block_key_all['LCC changes_norm'] = scaler.fit_transform(big_block_key_all[['LCC changes']])\n",
    "big_block_key_all['Score_total'] = big_block_key_all['Score_norm']*(1/-np.log2(big_block_key_all['LCC changes']+0.0001))*big_block_key_all['sim']\n",
    "big_block_key_all.sort_values(by='Score_total', ascending=False).to_csv(r'big_block_key_all_final.csv', index=False)\n",
    "big_block_key_all['Score_total'] = big_block_key_all['Score'] * big_block_key_all['LCC changes'] * big_block_key_all[\n",
    "    'sim']\n",
    "th_17_path = pd.read_csv(r'TH17_pathway.csv', header=None)\n",
    "big_block_key_all[big_block_key_all['From'].isin(th_17_path[0])]"
   ],
   "metadata": {
    "collapsed": false,
    "ExecuteTime": {
     "end_time": "2024-08-16T06:30:53.087519800Z",
     "start_time": "2024-08-16T06:30:53.040513300Z"
    }
   }
  },
  {
   "cell_type": "code",
   "execution_count": null,
   "outputs": [],
   "source": [],
   "metadata": {
    "collapsed": false
   }
  }
 ],
 "metadata": {
  "kernelspec": {
   "display_name": "Python 3",
   "language": "python",
   "name": "python3"
  },
  "language_info": {
   "codemirror_mode": {
    "name": "ipython",
    "version": 2
   },
   "file_extension": ".py",
   "mimetype": "text/x-python",
   "name": "python",
   "nbconvert_exporter": "python",
   "pygments_lexer": "ipython2",
   "version": "2.7.6"
  }
 },
 "nbformat": 4,
 "nbformat_minor": 0
}
